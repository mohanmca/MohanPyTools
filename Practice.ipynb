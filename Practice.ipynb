{
 "cells": [
  {
   "cell_type": "code",
   "execution_count": 5,
   "id": "b3ca45c1",
   "metadata": {},
   "outputs": [
    {
     "name": "stdout",
     "output_type": "stream",
     "text": [
      "23/03/30 15:08:58 WARN Utils: Your hostname, KavinKishos-Mac-mini.local resolves to a loopback address: 127.0.0.1; using 192.168.1.29 instead (on interface en1)\n",
      "23/03/30 15:08:58 WARN Utils: Set SPARK_LOCAL_IP if you need to bind to another address\n"
     ]
    },
    {
     "name": "stderr",
     "output_type": "stream",
     "text": [
      "Setting default log level to \"WARN\".\n",
      "To adjust logging level use sc.setLogLevel(newLevel). For SparkR, use setLogLevel(newLevel).\n"
     ]
    },
    {
     "name": "stdout",
     "output_type": "stream",
     "text": [
      "23/03/30 15:08:59 WARN NativeCodeLoader: Unable to load native-hadoop library for your platform... using builtin-java classes where applicable\n",
      "23/03/30 15:08:59 WARN Utils: Service 'SparkUI' could not bind on port 4040. Attempting port 4041.\n"
     ]
    }
   ],
   "source": [
    "from pyspark.sql import SparkSession\n",
    "spark=SparkSession.builder.appName('Practice').getOrCreate()"
   ]
  },
  {
   "cell_type": "code",
   "execution_count": 6,
   "id": "e52f0be6",
   "metadata": {},
   "outputs": [
    {
     "data": {
      "text/html": [
       "\n",
       "            <div>\n",
       "                <p><b>SparkSession - in-memory</b></p>\n",
       "                \n",
       "        <div>\n",
       "            <p><b>SparkContext</b></p>\n",
       "\n",
       "            <p><a href=\"http://192.168.1.29:4041\">Spark UI</a></p>\n",
       "\n",
       "            <dl>\n",
       "              <dt>Version</dt>\n",
       "                <dd><code>v3.3.2</code></dd>\n",
       "              <dt>Master</dt>\n",
       "                <dd><code>local[*]</code></dd>\n",
       "              <dt>AppName</dt>\n",
       "                <dd><code>Practice</code></dd>\n",
       "            </dl>\n",
       "        </div>\n",
       "        \n",
       "            </div>\n",
       "        "
      ],
      "text/plain": [
       "<pyspark.sql.session.SparkSession at 0x109f3d600>"
      ]
     },
     "execution_count": 6,
     "metadata": {},
     "output_type": "execute_result"
    }
   ],
   "source": [
    "spark"
   ]
  },
  {
   "cell_type": "code",
   "execution_count": 7,
   "id": "25abfea7",
   "metadata": {},
   "outputs": [
    {
     "data": {
      "text/plain": [
       "pyspark.sql.session.SparkSession"
      ]
     },
     "execution_count": 7,
     "metadata": {},
     "output_type": "execute_result"
    }
   ],
   "source": [
    "type(spark)"
   ]
  },
  {
   "cell_type": "code",
   "execution_count": 14,
   "id": "91d7f1b6",
   "metadata": {},
   "outputs": [],
   "source": [
    "df = spark.read.csv('students2.csv', header=True, inferSchema=True)"
   ]
  },
  {
   "cell_type": "code",
   "execution_count": 15,
   "id": "9ca91dcb",
   "metadata": {},
   "outputs": [
    {
     "name": "stdout",
     "output_type": "stream",
     "text": [
      "+--------+----+----------+\n",
      "|    name| age|experience|\n",
      "+--------+----+----------+\n",
      "| Sanjith|  11|         2|\n",
      "|   Kavin|  10|         1|\n",
      "|   Mohan|  45|         7|\n",
      "|1Sanjith|  11|         2|\n",
      "|  1Kavin|  10|         1|\n",
      "|  1Mohan|  45|         7|\n",
      "|    null|   2|         7|\n",
      "|     mak|   2|      null|\n",
      "|    null|   2|      null|\n",
      "|    null|null|         0|\n",
      "|    null|null|      null|\n",
      "+--------+----+----------+\n",
      "\n"
     ]
    }
   ],
   "source": [
    "df.show()"
   ]
  },
  {
   "cell_type": "code",
   "execution_count": 17,
   "id": "087b5711",
   "metadata": {},
   "outputs": [
    {
     "name": "stdout",
     "output_type": "stream",
     "text": [
      "+--------+\n",
      "|    name|\n",
      "+--------+\n",
      "| Sanjith|\n",
      "|   Kavin|\n",
      "|   Mohan|\n",
      "|1Sanjith|\n",
      "|  1Kavin|\n",
      "|  1Mohan|\n",
      "|    null|\n",
      "|     mak|\n",
      "|    null|\n",
      "|    null|\n",
      "|    null|\n",
      "+--------+\n",
      "\n"
     ]
    }
   ],
   "source": [
    "df.select('name').show()"
   ]
  },
  {
   "cell_type": "code",
   "execution_count": 18,
   "id": "246d2d24",
   "metadata": {},
   "outputs": [
    {
     "name": "stdout",
     "output_type": "stream",
     "text": [
      "+--------+---+----------+\n",
      "|    name|age|experience|\n",
      "+--------+---+----------+\n",
      "| Sanjith| 11|         2|\n",
      "|   Kavin| 10|         1|\n",
      "|   Mohan| 45|         7|\n",
      "|1Sanjith| 11|         2|\n",
      "|  1Kavin| 10|         1|\n",
      "|  1Mohan| 45|         7|\n",
      "+--------+---+----------+\n",
      "\n"
     ]
    }
   ],
   "source": [
    "df.na.drop().show()"
   ]
  },
  {
   "cell_type": "code",
   "execution_count": 19,
   "id": "898fdd42",
   "metadata": {},
   "outputs": [
    {
     "name": "stdout",
     "output_type": "stream",
     "text": [
      "+--------+---+----------+\n",
      "|    name|age|experience|\n",
      "+--------+---+----------+\n",
      "| Sanjith| 11|         2|\n",
      "|   Kavin| 10|         1|\n",
      "|   Mohan| 45|         7|\n",
      "|1Sanjith| 11|         2|\n",
      "|  1Kavin| 10|         1|\n",
      "|  1Mohan| 45|         7|\n",
      "|    null|  2|         7|\n",
      "|     mak|  2|      null|\n",
      "+--------+---+----------+\n",
      "\n"
     ]
    }
   ],
   "source": [
    "df.na.drop(how='any', thresh=2).show()"
   ]
  },
  {
   "cell_type": "code",
   "execution_count": 20,
   "id": "43e9f65d",
   "metadata": {},
   "outputs": [
    {
     "name": "stdout",
     "output_type": "stream",
     "text": [
      "+--------+---+----------+\n",
      "|    name|age|experience|\n",
      "+--------+---+----------+\n",
      "| Sanjith| 11|         2|\n",
      "|   Kavin| 10|         1|\n",
      "|   Mohan| 45|         7|\n",
      "|1Sanjith| 11|         2|\n",
      "|  1Kavin| 10|         1|\n",
      "|  1Mohan| 45|         7|\n",
      "+--------+---+----------+\n",
      "\n"
     ]
    }
   ],
   "source": [
    "df.na.drop(how='any', thresh=3).show()"
   ]
  },
  {
   "cell_type": "code",
   "execution_count": 22,
   "id": "2056e8eb",
   "metadata": {},
   "outputs": [
    {
     "name": "stdout",
     "output_type": "stream",
     "text": [
      "+--------+---+----------+\n",
      "|    name|age|experience|\n",
      "+--------+---+----------+\n",
      "| Sanjith| 11|         2|\n",
      "|   Kavin| 10|         1|\n",
      "|   Mohan| 45|         7|\n",
      "|1Sanjith| 11|         2|\n",
      "|  1Kavin| 10|         1|\n",
      "|  1Mohan| 45|         7|\n",
      "|     mak|  2|      null|\n",
      "+--------+---+----------+\n",
      "\n"
     ]
    }
   ],
   "source": [
    "df.na.drop(how='any', subset=['name']).show()"
   ]
  },
  {
   "cell_type": "code",
   "execution_count": 23,
   "id": "263dfcc2",
   "metadata": {},
   "outputs": [
    {
     "name": "stdout",
     "output_type": "stream",
     "text": [
      "+--------+----+----------+\n",
      "|    name| age|experience|\n",
      "+--------+----+----------+\n",
      "| Sanjith|  11|         2|\n",
      "|   Kavin|  10|         1|\n",
      "|   Mohan|  45|         7|\n",
      "|1Sanjith|  11|         2|\n",
      "|  1Kavin|  10|         1|\n",
      "|  1Mohan|  45|         7|\n",
      "|    null|   2|         7|\n",
      "|    null|null|         0|\n",
      "+--------+----+----------+\n",
      "\n"
     ]
    }
   ],
   "source": [
    "df.na.drop(how='any', subset=['experience']).show()"
   ]
  },
  {
   "cell_type": "code",
   "execution_count": 24,
   "id": "0b81d583",
   "metadata": {},
   "outputs": [
    {
     "name": "stdout",
     "output_type": "stream",
     "text": [
      "+--------+---+----------+\n",
      "|    name|age|experience|\n",
      "+--------+---+----------+\n",
      "| Sanjith| 11|         2|\n",
      "|   Kavin| 10|         1|\n",
      "|   Mohan| 45|         7|\n",
      "|1Sanjith| 11|         2|\n",
      "|  1Kavin| 10|         1|\n",
      "|  1Mohan| 45|         7|\n",
      "+--------+---+----------+\n",
      "\n"
     ]
    }
   ],
   "source": [
    "df.na.drop(how='any', subset=['experience','name']).show()"
   ]
  },
  {
   "cell_type": "code",
   "execution_count": 26,
   "id": "66d4f1c2",
   "metadata": {},
   "outputs": [
    {
     "name": "stdout",
     "output_type": "stream",
     "text": [
      "+--------------+----+----------+\n",
      "|          name| age|experience|\n",
      "+--------------+----+----------+\n",
      "|       Sanjith|  11|         2|\n",
      "|         Kavin|  10|         1|\n",
      "|         Mohan|  45|         7|\n",
      "|      1Sanjith|  11|         2|\n",
      "|        1Kavin|  10|         1|\n",
      "|        1Mohan|  45|         7|\n",
      "|Missing Values|   2|         7|\n",
      "|           mak|   2|      null|\n",
      "|Missing Values|   2|      null|\n",
      "|Missing Values|null|         0|\n",
      "|Missing Values|null|      null|\n",
      "+--------------+----+----------+\n",
      "\n"
     ]
    }
   ],
   "source": [
    "df.na.fill('Missing Values',['experience', 'name', 'age']).show()"
   ]
  },
  {
   "cell_type": "code",
   "execution_count": 29,
   "id": "7d7b8b81",
   "metadata": {},
   "outputs": [],
   "source": [
    "from pyspark.ml.feature import Imputer\n",
    "\n",
    "imputer = Imputer(inputCols=['age', 'experience'], outputCols=[\"{}_imputed\".format(c) \n",
    "                                                                   for c in ['age', 'experience']]\n",
    "                 ).setStrategy(\"mean\")\n",
    "    "
   ]
  },
  {
   "cell_type": "code",
   "execution_count": 31,
   "id": "0c5b0a5a",
   "metadata": {},
   "outputs": [
    {
     "name": "stdout",
     "output_type": "stream",
     "text": [
      "+--------+----+----------+-----------+------------------+\n",
      "|    name| age|experience|age_imputed|experience_imputed|\n",
      "+--------+----+----------+-----------+------------------+\n",
      "| Sanjith|  11|         2|         11|                 2|\n",
      "|   Kavin|  10|         1|         10|                 1|\n",
      "|   Mohan|  45|         7|         45|                 7|\n",
      "|1Sanjith|  11|         2|         11|                 2|\n",
      "|  1Kavin|  10|         1|         10|                 1|\n",
      "|  1Mohan|  45|         7|         45|                 7|\n",
      "|    null|   2|         7|          2|                 7|\n",
      "|     mak|   2|      null|          2|                 3|\n",
      "|    null|   2|      null|          2|                 3|\n",
      "|    null|null|         0|         15|                 0|\n",
      "|    null|null|      null|         15|                 3|\n",
      "+--------+----+----------+-----------+------------------+\n",
      "\n"
     ]
    }
   ],
   "source": [
    "imputer.fit(df).transform(df).show()"
   ]
  },
  {
   "cell_type": "code",
   "execution_count": null,
   "id": "b49d2571",
   "metadata": {},
   "outputs": [],
   "source": []
  }
 ],
 "metadata": {
  "kernelspec": {
   "display_name": "Python 3 (ipykernel)",
   "language": "python",
   "name": "python3"
  },
  "language_info": {
   "codemirror_mode": {
    "name": "ipython",
    "version": 3
   },
   "file_extension": ".py",
   "mimetype": "text/x-python",
   "name": "python",
   "nbconvert_exporter": "python",
   "pygments_lexer": "ipython3",
   "version": "3.10.9"
  }
 },
 "nbformat": 4,
 "nbformat_minor": 5
}
